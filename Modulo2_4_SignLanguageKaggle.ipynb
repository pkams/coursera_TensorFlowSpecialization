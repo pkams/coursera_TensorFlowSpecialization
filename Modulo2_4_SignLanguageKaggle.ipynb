{
 "cells": [
  {
   "cell_type": "code",
   "execution_count": 50,
   "metadata": {},
   "outputs": [],
   "source": [
    "# Importando bibliotecas\n",
    "import seaborn as sns\n",
    "import numpy as np\n",
    "import pandas as pd\n",
    "from tensorflow.keras.preprocessing.image import ImageDataGenerator\n",
    "import tensorflow as tf"
   ]
  },
  {
   "cell_type": "code",
   "execution_count": 30,
   "metadata": {},
   "outputs": [],
   "source": [
    "# Importando DataSets (download via kaggle)\n",
    "df = pd.read_csv('sign_lan/sign_mnist_train.csv')\n",
    "df2 = pd.read_csv('sign_lan/sign_mnist_test.csv')"
   ]
  },
  {
   "cell_type": "code",
   "execution_count": 31,
   "metadata": {},
   "outputs": [],
   "source": [
    "# Instanciando X e y\n",
    "y = df['label'].values\n",
    "X = df.iloc[:,1:].values\n",
    "y_t = df2['label'].values\n",
    "X_t = df2.iloc[:,1:].values"
   ]
  },
  {
   "cell_type": "code",
   "execution_count": 32,
   "metadata": {},
   "outputs": [],
   "source": [
    "# Transformando de 2D para 3D (treino)\n",
    "temp_images = []\n",
    "for row in X:\n",
    "    image_data = np.array_split(row, 28)\n",
    "    temp_images.append(image_data)"
   ]
  },
  {
   "cell_type": "code",
   "execution_count": 33,
   "metadata": {},
   "outputs": [],
   "source": [
    "# Transformando de 2D para 3D (teste)\n",
    "temp_images_t = []\n",
    "for row in X_t:\n",
    "    image_data = np.array_split(row, 28)\n",
    "    temp_images_t.append(image_data)"
   ]
  },
  {
   "cell_type": "code",
   "execution_count": 35,
   "metadata": {},
   "outputs": [
    {
     "name": "stdout",
     "output_type": "stream",
     "text": [
      "(27455, 28, 28)\n",
      "(27455,)\n",
      "(7172, 28, 28)\n",
      "(7172,)\n"
     ]
    }
   ],
   "source": [
    "# Verificando formato\n",
    "# Formato inicial: (numerodeexemplo, dados da imagem em 1D)\n",
    "# Aqui devemos ter seguinte formato: (numdeexemplos, altura, largura)\n",
    "print(np.array(temp_images).astype('float').shape)\n",
    "print(y.shape)\n",
    "print(np.array(temp_images_t).astype('float').shape)\n",
    "print(y_t.shape)"
   ]
  },
  {
   "cell_type": "code",
   "execution_count": 44,
   "metadata": {},
   "outputs": [],
   "source": [
    "# Expandindo para 4 dimensões: (numerodeexemplos, largura, altura, canaisdecor)\n",
    "training_images = np.expand_dims(temp_images, axis=3)\n",
    "testing_images = np.expand_dims(temp_images_t, axis=3)\n",
    "training_labels = y\n",
    "testing_labels = y_t"
   ]
  },
  {
   "cell_type": "code",
   "execution_count": 37,
   "metadata": {},
   "outputs": [
    {
     "data": {
      "text/plain": [
       "((27455, 28, 28, 1), (7172, 28, 28, 1))"
      ]
     },
     "execution_count": 37,
     "metadata": {},
     "output_type": "execute_result"
    }
   ],
   "source": [
    "# Conferindo resultado\n",
    "training_images.shape, testing_images.shape"
   ]
  },
  {
   "cell_type": "code",
   "execution_count": 38,
   "metadata": {},
   "outputs": [],
   "source": [
    "# Criando datagen para treino e teste\n",
    "\n",
    "train_datagen = ImageDataGenerator(\n",
    "    rescale= 1./255,\n",
    "    width_shift_range=0.2,\n",
    "    height_shift_range=0.2,\n",
    "    rotation_range=40,\n",
    "    shear_range=0.2,\n",
    "    zoom_range=0.2,\n",
    "    horizontal_flip=True,\n",
    "    fill_mode='nearest'    \n",
    ")\n",
    "\n",
    "validation_datagen = ImageDataGenerator(rescale=1./255)"
   ]
  },
  {
   "cell_type": "code",
   "execution_count": 42,
   "metadata": {},
   "outputs": [],
   "source": [
    "# Modelo CNN:\n",
    "model = tf.keras.models.Sequential([\n",
    "    tf.keras.layers.Conv2D(64,(3,3), activation='relu', input_shape=(28,28,1)),\n",
    "    tf.keras.layers.MaxPooling2D(2,2),\n",
    "    tf.keras.layers.Conv2D(64,(3,3), activation='relu'),\n",
    "    tf.keras.layers.MaxPooling2D(2,2),\n",
    "    tf.keras.layers.Flatten(),\n",
    "    tf.keras.layers.Dense(128, activation=tf.nn.relu),\n",
    "    tf.keras.layers.Dense(26,activation=tf.nn.softmax)\n",
    "])"
   ]
  },
  {
   "cell_type": "code",
   "execution_count": 43,
   "metadata": {},
   "outputs": [],
   "source": [
    "# Definindo otimizador e função perda\n",
    "model.compile(optimizer='adam',\n",
    "             loss='sparse_categorical_crossentropy',\n",
    "             metrics=['accuracy'])"
   ]
  },
  {
   "cell_type": "code",
   "execution_count": 45,
   "metadata": {},
   "outputs": [
    {
     "name": "stdout",
     "output_type": "stream",
     "text": [
      "Epoch 1/15\n",
      "858/857 [==============================] - 31s 37ms/step - loss: 2.8635 - accuracy: 0.1339 - val_loss: 2.0130 - val_accuracy: 0.3483\n",
      "Epoch 2/15\n",
      "858/857 [==============================] - 31s 36ms/step - loss: 2.1441 - accuracy: 0.3236 - val_loss: 1.4372 - val_accuracy: 0.5264\n",
      "Epoch 3/15\n",
      "858/857 [==============================] - 31s 36ms/step - loss: 1.7415 - accuracy: 0.4390 - val_loss: 1.1603 - val_accuracy: 0.6247\n",
      "Epoch 4/15\n",
      "858/857 [==============================] - 34s 39ms/step - loss: 1.5017 - accuracy: 0.5111 - val_loss: 0.9665 - val_accuracy: 0.6523\n",
      "Epoch 5/15\n",
      "858/857 [==============================] - 39s 45ms/step - loss: 1.3707 - accuracy: 0.5544 - val_loss: 0.8950 - val_accuracy: 0.6721\n",
      "Epoch 6/15\n",
      "858/857 [==============================] - 39s 45ms/step - loss: 1.2620 - accuracy: 0.5839 - val_loss: 0.9364 - val_accuracy: 0.6665\n",
      "Epoch 7/15\n",
      "858/857 [==============================] - 39s 45ms/step - loss: 1.1681 - accuracy: 0.6192 - val_loss: 0.7428 - val_accuracy: 0.7462\n",
      "Epoch 8/15\n",
      "858/857 [==============================] - 39s 45ms/step - loss: 1.1119 - accuracy: 0.6361 - val_loss: 0.7304 - val_accuracy: 0.7415\n",
      "Epoch 9/15\n",
      "858/857 [==============================] - 39s 45ms/step - loss: 1.0419 - accuracy: 0.6555 - val_loss: 0.6811 - val_accuracy: 0.7426\n",
      "Epoch 10/15\n",
      "858/857 [==============================] - 39s 45ms/step - loss: 0.9960 - accuracy: 0.6715 - val_loss: 0.6493 - val_accuracy: 0.7553\n",
      "Epoch 11/15\n",
      "858/857 [==============================] - 39s 46ms/step - loss: 0.9497 - accuracy: 0.6855 - val_loss: 0.4762 - val_accuracy: 0.8331\n",
      "Epoch 12/15\n",
      "858/857 [==============================] - 39s 46ms/step - loss: 0.9021 - accuracy: 0.6973 - val_loss: 0.5650 - val_accuracy: 0.8063\n",
      "Epoch 13/15\n",
      "858/857 [==============================] - 39s 46ms/step - loss: 0.8681 - accuracy: 0.7084 - val_loss: 0.5541 - val_accuracy: 0.8066\n",
      "Epoch 14/15\n",
      "858/857 [==============================] - 39s 46ms/step - loss: 0.8317 - accuracy: 0.7202 - val_loss: 0.4980 - val_accuracy: 0.8194\n",
      "Epoch 15/15\n",
      "858/857 [==============================] - 39s 46ms/step - loss: 0.7878 - accuracy: 0.7340 - val_loss: 0.4819 - val_accuracy: 0.8292\n"
     ]
    }
   ],
   "source": [
    "# Treino do modelo\n",
    "history = model.fit(\n",
    "    train_datagen.flow(training_images, training_labels, batch_size=32),\n",
    "    steps_per_epoch= len(training_images)/32,\n",
    "    epochs = 15,\n",
    "    validation_data=validation_datagen.flow(testing_images, testing_labels, batch_size=32),\n",
    "    validation_steps = len(testing_images) / 32\n",
    ")"
   ]
  },
  {
   "cell_type": "code",
   "execution_count": 49,
   "metadata": {},
   "outputs": [
    {
     "data": {
      "image/png": "[encoded data removed]",
      "text/plain": [
       "<Figure size 432x288 with 1 Axes>"
      ]
     },
     "metadata": {},
     "output_type": "display_data"
    },
    {
     "data": {
      "image/png": "[encoded data removed]",
      "text/plain": [
       "<Figure size 432x288 with 1 Axes>"
      ]
     },
     "metadata": {},
     "output_type": "display_data"
    }
   ],
   "source": [
    "# Plotando resultados\n",
    "\n",
    "sns.set()\n",
    "import matplotlib.pyplot as plt\n",
    "acc = history.history['accuracy']\n",
    "val_acc = history.history['val_accuracy']\n",
    "loss = history.history['loss']\n",
    "val_loss = history.history['val_loss']\n",
    "\n",
    "epochs = range(len(acc))\n",
    "\n",
    "plt.plot(epochs, acc, 'r', label='Training accuracy')\n",
    "plt.plot(epochs, val_acc, 'b', label='Validation accuracy')\n",
    "plt.title('Training and validation accuracy')\n",
    "plt.legend()\n",
    "plt.figure()\n",
    "\n",
    "plt.plot(epochs, loss, 'r', label='Training Loss')\n",
    "plt.plot(epochs, val_loss, 'b', label='Validation Loss')\n",
    "plt.title('Training and validation loss')\n",
    "plt.legend()\n",
    "\n",
    "plt.show()"
   ]
  },
  {
   "cell_type": "code",
   "execution_count": null,
   "metadata": {},
   "outputs": [],
   "source": []
  }
 ],
 "metadata": {
  "kernelspec": {
   "display_name": "Python 3",
   "language": "python",
   "name": "python3"
  },
  "language_info": {
   "codemirror_mode": {
    "name": "ipython",
    "version": 3
   },
   "file_extension": ".py",
   "mimetype": "text/x-python",
   "name": "python",
   "nbconvert_exporter": "python",
   "pygments_lexer": "ipython3",
   "version": "3.7.6"
  }
 },
 "nbformat": 4,
 "nbformat_minor": 4
}
