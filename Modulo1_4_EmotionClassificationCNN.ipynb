{
 "cells": [
  {
   "cell_type": "code",
   "execution_count": 1,
   "metadata": {},
   "outputs": [],
   "source": [
    "# Bibliotecas\n",
    "import os\n",
    "import zipfile\n",
    "import tensorflow as tf\n",
    "import numpy as np"
   ]
  },
  {
   "cell_type": "code",
   "execution_count": 2,
   "metadata": {},
   "outputs": [],
   "source": [
    "# Definindo uma acurácia\n",
    "acuracia_pret = 0.999"
   ]
  },
  {
   "cell_type": "code",
   "execution_count": 55,
   "metadata": {},
   "outputs": [],
   "source": [
    "# Classe callback\n",
    "class myCallBack(tf.keras.callbacks.Callback):\n",
    "    def on_epoch_end(self, epoch, logs={}):\n",
    "        if(logs.get('accuracy')>acuracia_pret):\n",
    "            print('\\n {0} accuracy reached'.format(acuracia_pret))\n",
    "            self.model.stop_training=True\n",
    "            \n",
    "# Instanciando callback\n",
    "\n",
    "callbacks = myCallBack()"
   ]
  },
  {
   "cell_type": "code",
   "execution_count": 13,
   "metadata": {},
   "outputs": [
    {
     "name": "stdout",
     "output_type": "stream",
     "text": [
      "100% [......................................................] 2670333 / 2670333"
     ]
    }
   ],
   "source": [
    "# Download do arquivo\n",
    "import wget\n",
    "url = \"https://storage.googleapis.com/laurencemoroney-blog.appspot.com/happy-or-sad.zip\"\n",
    "filename = wget.download(url)"
   ]
  },
  {
   "cell_type": "code",
   "execution_count": 27,
   "metadata": {},
   "outputs": [],
   "source": [
    "# Unzipando\n",
    "zip_ref = zipfile.ZipFile('happy-or-sad.zip','r') # ler arquivo\n",
    "zip_ref.extractall('h-or-s') # extraindo em\n",
    "zip_ref.close() # fechando arquivo"
   ]
  },
  {
   "cell_type": "code",
   "execution_count": 173,
   "metadata": {},
   "outputs": [],
   "source": [
    "# Criando modelo de Rede CNN\n",
    "# Devido a complexidade do modelo iremos trabalhar com sucessivas combinações de Conv2D+Pooling antes de passar para\n",
    "# a rede Multi Layer\n",
    "model=tf.keras.models.Sequential([\n",
    "    # Layers Convolucionais\n",
    "    tf.keras.layers.Conv2D(64, (3,3), activation='relu', input_shape=(150,150,3)),\n",
    "    tf.keras.layers.MaxPool2D(2,2),\n",
    "    tf.keras.layers.Conv2D(32, (3,3), activation='relu', input_shape=(150,150,3)),\n",
    "    tf.keras.layers.MaxPool2D(2,2),\n",
    "    tf.keras.layers.Conv2D(32, (3,3), activation='relu', input_shape=(150,150,3)),\n",
    "    tf.keras.layers.MaxPool2D(2,2),\n",
    "    # Flattening\n",
    "    tf.keras.layers.Flatten(),\n",
    "    # MLP\n",
    "    tf.keras.layers.Dense(512, activation='relu'),\n",
    "    tf.keras.layers.Dense(128, activation='relu'),\n",
    "    tf.keras.layers.Dense(1, activation='sigmoid')\n",
    "])"
   ]
  },
  {
   "cell_type": "code",
   "execution_count": 174,
   "metadata": {},
   "outputs": [
    {
     "name": "stdout",
     "output_type": "stream",
     "text": [
      "Model: \"sequential_5\"\n",
      "_________________________________________________________________\n",
      "Layer (type)                 Output Shape              Param #   \n",
      "=================================================================\n",
      "conv2d_10 (Conv2D)           (None, 148, 148, 64)      1792      \n",
      "_________________________________________________________________\n",
      "max_pooling2d_9 (MaxPooling2 (None, 74, 74, 64)        0         \n",
      "_________________________________________________________________\n",
      "conv2d_11 (Conv2D)           (None, 72, 72, 32)        18464     \n",
      "_________________________________________________________________\n",
      "max_pooling2d_10 (MaxPooling (None, 36, 36, 32)        0         \n",
      "_________________________________________________________________\n",
      "conv2d_12 (Conv2D)           (None, 34, 34, 32)        9248      \n",
      "_________________________________________________________________\n",
      "max_pooling2d_11 (MaxPooling (None, 17, 17, 32)        0         \n",
      "_________________________________________________________________\n",
      "flatten_2 (Flatten)          (None, 9248)              0         \n",
      "_________________________________________________________________\n",
      "dense_6 (Dense)              (None, 512)               4735488   \n",
      "_________________________________________________________________\n",
      "dense_7 (Dense)              (None, 128)               65664     \n",
      "_________________________________________________________________\n",
      "dense_8 (Dense)              (None, 1)                 129       \n",
      "=================================================================\n",
      "Total params: 4,830,785\n",
      "Trainable params: 4,830,785\n",
      "Non-trainable params: 0\n",
      "_________________________________________________________________\n"
     ]
    }
   ],
   "source": [
    "model.summary()"
   ]
  },
  {
   "cell_type": "code",
   "execution_count": 175,
   "metadata": {},
   "outputs": [],
   "source": [
    "# Definindo função loss e optimizers\n",
    "\n",
    "model.compile(optimizer='rmsprop', loss='binary_crossentropy', metrics=['accuracy'])"
   ]
  },
  {
   "cell_type": "code",
   "execution_count": 176,
   "metadata": {},
   "outputs": [
    {
     "name": "stdout",
     "output_type": "stream",
     "text": [
      "Found 80 images belonging to 2 classes.\n"
     ]
    }
   ],
   "source": [
    "# Pegando os arquivos de imagem\n",
    "# Importando biblioteca de criação do ImageDataGenerator\n",
    "from tensorflow.keras.preprocessing.image import ImageDataGenerator \n",
    "\n",
    "train_datagen = ImageDataGenerator(rescale=1/255)\n",
    "# Aqui podemos passar diversos parametros para alterar e criar novas imagens.\n",
    "# Podemos criar imagens artificiais apenas rodando as imagens que temos\n",
    "# Podemos usar funções de zoom, rescale, rotate...\n",
    "# neste caso apenas instanciamos um datagenerator com rescale\n",
    "\n",
    "train_generator = train_datagen.flow_from_directory(\n",
    "    '/h-or-s', # pasta\n",
    "    target_size=(150,150), # formato, vai aplicar em todas imagens\n",
    "    batch_size=64, # lotes\n",
    "    class_mode='binary' # tipo de classes\n",
    ")"
   ]
  },
  {
   "cell_type": "code",
   "execution_count": 179,
   "metadata": {},
   "outputs": [
    {
     "name": "stdout",
     "output_type": "stream",
     "text": [
      "Epoch 1/20\n",
      "40/40 [==============================] - 50s 1s/step - loss: 0.0286 - accuracy: 0.9912\n",
      "Epoch 2/20\n",
      "40/40 [==============================] - 51s 1s/step - loss: 0.1324 - accuracy: 0.9700\n",
      "Epoch 3/20\n",
      "40/40 [==============================] - ETA: 0s - loss: 1.8123e-04 - accuracy: 1.0000\n",
      " 0.999 accuracy reached\n",
      "40/40 [==============================] - 51s 1s/step - loss: 1.8123e-04 - accuracy: 1.0000\n"
     ]
    }
   ],
   "source": [
    "# Fitando modelo\n",
    "history = model.fit(\n",
    "    train_generator,\n",
    "    epochs=20,\n",
    "    steps_per_epoch=40,\n",
    "    callbacks=[callbacks]\n",
    ")\n",
    "\n",
    "# steps_per_epoch normalmente é numero de treino / batch_size\n",
    "# Se tivessemos validation_steps seria numero de teste / batch_size"
   ]
  },
  {
   "cell_type": "code",
   "execution_count": null,
   "metadata": {},
   "outputs": [],
   "source": []
  }
 ],
 "metadata": {
  "kernelspec": {
   "display_name": "Python 3",
   "language": "python",
   "name": "python3"
  },
  "language_info": {
   "codemirror_mode": {
    "name": "ipython",
    "version": 3
   },
   "file_extension": ".py",
   "mimetype": "text/x-python",
   "name": "python",
   "nbconvert_exporter": "python",
   "pygments_lexer": "ipython3",
   "version": "3.7.6"
  }
 },
 "nbformat": 4,
 "nbformat_minor": 4
}
