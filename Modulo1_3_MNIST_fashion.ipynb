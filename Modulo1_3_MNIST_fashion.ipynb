{
 "cells": [
  {
   "cell_type": "code",
   "execution_count": 1,
   "metadata": {},
   "outputs": [],
   "source": [
    "import tensorflow as tf"
   ]
  },
  {
   "cell_type": "code",
   "execution_count": 6,
   "metadata": {},
   "outputs": [],
   "source": [
    "# Classe callback\n",
    "class myCallBack(tf.keras.callbacks.Callback):\n",
    "    def on_epoch_end(self, epoch, logs={}):\n",
    "        if(logs.get('accuracy')>0.998):\n",
    "            print('\\n 99,8% acc reached')\n",
    "            self.model.stop_training=True"
   ]
  },
  {
   "cell_type": "code",
   "execution_count": 7,
   "metadata": {},
   "outputs": [],
   "source": [
    "# Instanciando callback\n",
    "callbacks = myCallBack()"
   ]
  },
  {
   "cell_type": "code",
   "execution_count": 9,
   "metadata": {},
   "outputs": [],
   "source": [
    "# Criando função para fazer pré-processamento\n",
    "def preprocess_images(image_set):\n",
    "    image_set = image_set.reshape(-1,28,28,1) # formato para rede CNN\n",
    "    image_set = image_set / 255.0\n",
    "    return image_set"
   ]
  },
  {
   "cell_type": "code",
   "execution_count": 12,
   "metadata": {},
   "outputs": [],
   "source": [
    "# Carregando base de dados e aplicando pré-processamento\n",
    "mnist = tf.keras.datasets.mnist\n",
    "(training_images, training_labels), (test_images, test_labels) = mnist.load_data()\n",
    "\n",
    "training_images = preprocess_images(training_images)\n",
    "test_images = preprocess_images(test_images)"
   ]
  },
  {
   "cell_type": "code",
   "execution_count": 15,
   "metadata": {},
   "outputs": [],
   "source": [
    "# Criando modelo\n",
    "# Rede CNN necessita de um layer de Pooling e de Conv2D\n",
    "# Existe uma ordem correta para aplicação da rede CNN conforme imagem abaixo:\n",
    "# Input -> Convolution Layer -> Pooling Layer -> Rede MLP"
   ]
  },
  {
   "cell_type": "markdown",
   "metadata": {},
   "source": [
    "<img src=https://www.mdpi.com/applsci/applsci-09-04500/article_deploy/html/images/applsci-09-04500-g001.png\n",
    "     style=\"width:300px;height:150px;\">"
   ]
  },
  {
   "cell_type": "raw",
   "metadata": {},
   "source": [
    "# Exemplo de modelo de rede CNN:\n",
    "\n",
    "model = tf.keras.models.Sequential([\n",
    "    tf.keras.layers.Conv2D(num_filtros, formato, ativação, input),\n",
    "    tf.keras.layers.MaxPooling2D(formato),\n",
    "    tf.keras.layers.Flatten(),\n",
    "    tf.keras.layers.Dense(nós, ativação),\n",
    "    tf.keras.layers.Dense(nós, ativação),\n",
    "    tf.keras.layers.Dense(nós, ativação)\n",
    "])\n",
    "\n",
    "Sendo:\n",
    "\n",
    "num_filtros = inteiro\n",
    "formato = matriz = (a,a)\n",
    "ativação = 'relu' ou 'sigmoid' ou 'softmax' ou...\n",
    "nós = inteiro"
   ]
  },
  {
   "cell_type": "code",
   "execution_count": 22,
   "metadata": {},
   "outputs": [],
   "source": [
    "model = tf.keras.models.Sequential([\n",
    "    tf.keras.layers.Conv2D(64, (3,3), activation='relu', input_shape=(28,28,1)),\n",
    "    tf.keras.layers.MaxPooling2D(2,2),\n",
    "    tf.keras.layers.Flatten(),\n",
    "    tf.keras.layers.Dense(128,activation='relu'),\n",
    "    tf.keras.layers.Dense(64, activation='relu'),\n",
    "    tf.keras.layers.Dense(10, activation='softmax')\n",
    "])"
   ]
  },
  {
   "cell_type": "code",
   "execution_count": 24,
   "metadata": {},
   "outputs": [],
   "source": [
    "model.compile(\n",
    "    optimizer='adam',\n",
    "    loss='sparse_categorical_crossentropy',\n",
    "    metrics=['accuracy']\n",
    ")"
   ]
  },
  {
   "cell_type": "code",
   "execution_count": 26,
   "metadata": {},
   "outputs": [
    {
     "name": "stdout",
     "output_type": "stream",
     "text": [
      "Epoch 1/20\n",
      "938/938 [==============================] - 33s 35ms/step - loss: 0.0689 - accuracy: 0.9789\n",
      "Epoch 2/20\n",
      "938/938 [==============================] - 39s 42ms/step - loss: 0.0408 - accuracy: 0.9873\n",
      "Epoch 3/20\n",
      "938/938 [==============================] - 43s 46ms/step - loss: 0.0277 - accuracy: 0.9912\n",
      "Epoch 4/20\n",
      "938/938 [==============================] - 44s 47ms/step - loss: 0.0198 - accuracy: 0.9934\n",
      "Epoch 5/20\n",
      "938/938 [==============================] - 41s 44ms/step - loss: 0.0153 - accuracy: 0.9946\n",
      "Epoch 6/20\n",
      "938/938 [==============================] - 49s 52ms/step - loss: 0.0106 - accuracy: 0.9963\n",
      "Epoch 7/20\n",
      "938/938 [==============================] - 43s 46ms/step - loss: 0.0098 - accuracy: 0.9967\n",
      "Epoch 8/20\n",
      "938/938 [==============================] - 43s 46ms/step - loss: 0.0085 - accuracy: 0.9972\n",
      "Epoch 9/20\n",
      "938/938 [==============================] - ETA: 0s - loss: 0.0054 - accuracy: 0.9982\n",
      " 99,8% acc reached\n",
      "938/938 [==============================] - 43s 46ms/step - loss: 0.0054 - accuracy: 0.9982\n"
     ]
    },
    {
     "data": {
      "text/plain": [
       "<tensorflow.python.keras.callbacks.History at 0x77399830c8>"
      ]
     },
     "execution_count": 26,
     "metadata": {},
     "output_type": "execute_result"
    }
   ],
   "source": [
    "model.fit(training_images, \n",
    "          training_labels, \n",
    "          epochs=20,\n",
    "          batch_size=64,\n",
    "          callbacks=[callbacks])"
   ]
  },
  {
   "cell_type": "code",
   "execution_count": null,
   "metadata": {},
   "outputs": [],
   "source": []
  }
 ],
 "metadata": {
  "kernelspec": {
   "display_name": "Python 3",
   "language": "python",
   "name": "python3"
  },
  "language_info": {
   "codemirror_mode": {
    "name": "ipython",
    "version": 3
   },
   "file_extension": ".py",
   "mimetype": "text/x-python",
   "name": "python",
   "nbconvert_exporter": "python",
   "pygments_lexer": "ipython3",
   "version": "3.7.6"
  }
 },
 "nbformat": 4,
 "nbformat_minor": 4
}
