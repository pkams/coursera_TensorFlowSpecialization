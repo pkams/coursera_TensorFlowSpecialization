{
  "nbformat": 4,
  "nbformat_minor": 0,
  "metadata": {
    "colab": {
      "name": "Modulo3_2_Embedding.ipynb.ipynb",
      "provenance": [],
      "authorship_tag": "ABX9TyOfVfAfiXLYW/2J4jzuBkoY",
      "include_colab_link": true
    },
    "kernelspec": {
      "name": "python3",
      "display_name": "Python 3"
    },
    "accelerator": "GPU"
  },
  "cells": [
    {
      "cell_type": "markdown",
      "metadata": {
        "id": "view-in-github",
        "colab_type": "text"
      },
      "source": [
        "<a href=\"https://colab.research.google.com/github/pkams/coursera_TensorFlowSpecialization/blob/master/Modulo3_2_Embedding_ipynb.ipynb\" target=\"_parent\"><img src=\"https://colab.research.google.com/assets/colab-badge.svg\" alt=\"Open In Colab\"/></a>"
      ]
    },
    {
      "cell_type": "code",
      "metadata": {
        "id": "qRt4EDPDmjUO",
        "colab_type": "code",
        "colab": {}
      },
      "source": [
        "import csv\n",
        "import pandas as pd\n",
        "import numpy as np\n",
        "import tensorflow as tf\n",
        "\n",
        "from tensorflow.keras.preprocessing.text import Tokenizer\n",
        "from tensorflow.keras.preprocessing.sequence import pad_sequences"
      ],
      "execution_count": 1,
      "outputs": []
    },
    {
      "cell_type": "code",
      "metadata": {
        "id": "vHh1BE5ym5bs",
        "colab_type": "code",
        "colab": {
          "base_uri": "https://localhost:8080/",
          "height": 34
        },
        "outputId": "a4a0df1b-43d1-4baf-976f-2d59a6fbc120"
      },
      "source": [
        "!pip install wget\n",
        "import wget"
      ],
      "execution_count": 2,
      "outputs": [
        {
          "output_type": "stream",
          "text": [
            "Requirement already satisfied: wget in /usr/local/lib/python3.6/dist-packages (3.2)\n"
          ],
          "name": "stdout"
        }
      ]
    },
    {
      "cell_type": "code",
      "metadata": {
        "id": "Eo75djrSm6qJ",
        "colab_type": "code",
        "colab": {
          "base_uri": "https://localhost:8080/",
          "height": 34
        },
        "outputId": "51ba8a93-04e1-4ba0-e566-ee4e23d300df"
      },
      "source": [
        "url = 'https://storage.googleapis.com/laurencemoroney-blog.appspot.com/bbc-text.csv'\n",
        "wget.download(url) "
      ],
      "execution_count": 3,
      "outputs": [
        {
          "output_type": "execute_result",
          "data": {
            "text/plain": [
              "'bbc-text (2).csv'"
            ]
          },
          "metadata": {
            "tags": []
          },
          "execution_count": 3
        }
      ]
    },
    {
      "cell_type": "code",
      "metadata": {
        "id": "jPNkrBIEm-e4",
        "colab_type": "code",
        "colab": {}
      },
      "source": [
        "# Declarando as váriaveis que usaremos na rede e no processo de tokenização\n",
        "\n",
        "vocab_size = 1000 # Tamanho do vocabulario max\n",
        "embedding_dim = 16 # Dimensão do embedding de palavras\n",
        "max_length = 120 # Tamanho maximo do vetor de sentenças\n",
        "trunc_type = 'post' # Caso ultrapasse 120, irá truncar os últimos\n",
        "padding_type = 'post'\n",
        "oov_tok = '<OOV>' # Termo substituto de palavras fora do vocabulario\n",
        "training_portion = 0.8 # Quantidade de treino (80%)"
      ],
      "execution_count": 4,
      "outputs": []
    },
    {
      "cell_type": "code",
      "metadata": {
        "id": "4d9XMV1rpRAp",
        "colab_type": "code",
        "colab": {}
      },
      "source": [
        "# Lista de Stopwords\n",
        "stopwords = [ \"a\", \"about\", \"above\", \"after\", \"again\", \"against\", \"all\", \"am\", \"an\", \"and\", \"any\", \"are\", \"as\", \"at\", \"be\", \"because\", \"been\", \"before\", \"being\", \"below\", \"between\", \"both\", \"but\", \"by\", \"could\", \"did\", \"do\", \"does\", \"doing\", \"down\", \"during\", \"each\", \"few\", \"for\", \"from\", \"further\", \"had\", \"has\", \"have\", \"having\", \"he\", \"he'd\", \"he'll\", \"he's\", \"her\", \"here\", \"here's\", \"hers\", \"herself\", \"him\", \"himself\", \"his\", \"how\", \"how's\", \"i\", \"i'd\", \"i'll\", \"i'm\", \"i've\", \"if\", \"in\", \"into\", \"is\", \"it\", \"it's\", \"its\", \"itself\", \"let's\", \"me\", \"more\", \"most\", \"my\", \"myself\", \"nor\", \"of\", \"on\", \"once\", \"only\", \"or\", \"other\", \"ought\", \"our\", \"ours\", \"ourselves\", \"out\", \"over\", \"own\", \"same\", \"she\", \"she'd\", \"she'll\", \"she's\", \"should\", \"so\", \"some\", \"such\", \"than\", \"that\", \"that's\", \"the\", \"their\", \"theirs\", \"them\", \"themselves\", \"then\", \"there\", \"there's\", \"these\", \"they\", \"they'd\", \"they'll\", \"they're\", \"they've\", \"this\", \"those\", \"through\", \"to\", \"too\", \"under\", \"until\", \"up\", \"very\", \"was\", \"we\", \"we'd\", \"we'll\", \"we're\", \"we've\", \"were\", \"what\", \"what's\", \"when\", \"when's\", \"where\", \"where's\", \"which\", \"while\", \"who\", \"who's\", \"whom\", \"why\", \"why's\", \"with\", \"would\", \"you\", \"you'd\", \"you'll\", \"you're\", \"you've\", \"your\", \"yours\", \"yourself\", \"yourselves\" ]"
      ],
      "execution_count": 5,
      "outputs": []
    },
    {
      "cell_type": "code",
      "metadata": {
        "id": "5z-RawAhoSru",
        "colab_type": "code",
        "colab": {
          "base_uri": "https://localhost:8080/",
          "height": 402
        },
        "outputId": "68b35088-a2f2-4a62-e5ba-a6319d359305"
      },
      "source": [
        "# Abrindo arquivo (via pandas)\n",
        "df = pd.read_csv('bbc-text.csv')\n",
        "df"
      ],
      "execution_count": 6,
      "outputs": [
        {
          "output_type": "execute_result",
          "data": {
            "text/html": [
              "<div>\n",
              "<style scoped>\n",
              "    .dataframe tbody tr th:only-of-type {\n",
              "        vertical-align: middle;\n",
              "    }\n",
              "\n",
              "    .dataframe tbody tr th {\n",
              "        vertical-align: top;\n",
              "    }\n",
              "\n",
              "    .dataframe thead th {\n",
              "        text-align: right;\n",
              "    }\n",
              "</style>\n",
              "<table border=\"1\" class=\"dataframe\">\n",
              "  <thead>\n",
              "    <tr style=\"text-align: right;\">\n",
              "      <th></th>\n",
              "      <th>category</th>\n",
              "      <th>text</th>\n",
              "    </tr>\n",
              "  </thead>\n",
              "  <tbody>\n",
              "    <tr>\n",
              "      <th>0</th>\n",
              "      <td>tech</td>\n",
              "      <td>tv future in the hands of viewers with home th...</td>\n",
              "    </tr>\n",
              "    <tr>\n",
              "      <th>1</th>\n",
              "      <td>business</td>\n",
              "      <td>worldcom boss  left books alone  former worldc...</td>\n",
              "    </tr>\n",
              "    <tr>\n",
              "      <th>2</th>\n",
              "      <td>sport</td>\n",
              "      <td>tigers wary of farrell  gamble  leicester say ...</td>\n",
              "    </tr>\n",
              "    <tr>\n",
              "      <th>3</th>\n",
              "      <td>sport</td>\n",
              "      <td>yeading face newcastle in fa cup premiership s...</td>\n",
              "    </tr>\n",
              "    <tr>\n",
              "      <th>4</th>\n",
              "      <td>entertainment</td>\n",
              "      <td>ocean s twelve raids box office ocean s twelve...</td>\n",
              "    </tr>\n",
              "    <tr>\n",
              "      <th>...</th>\n",
              "      <td>...</td>\n",
              "      <td>...</td>\n",
              "    </tr>\n",
              "    <tr>\n",
              "      <th>2220</th>\n",
              "      <td>business</td>\n",
              "      <td>cars pull down us retail figures us retail sal...</td>\n",
              "    </tr>\n",
              "    <tr>\n",
              "      <th>2221</th>\n",
              "      <td>politics</td>\n",
              "      <td>kilroy unveils immigration policy ex-chatshow ...</td>\n",
              "    </tr>\n",
              "    <tr>\n",
              "      <th>2222</th>\n",
              "      <td>entertainment</td>\n",
              "      <td>rem announce new glasgow concert us band rem h...</td>\n",
              "    </tr>\n",
              "    <tr>\n",
              "      <th>2223</th>\n",
              "      <td>politics</td>\n",
              "      <td>how political squabbles snowball it s become c...</td>\n",
              "    </tr>\n",
              "    <tr>\n",
              "      <th>2224</th>\n",
              "      <td>sport</td>\n",
              "      <td>souness delight at euro progress boss graeme s...</td>\n",
              "    </tr>\n",
              "  </tbody>\n",
              "</table>\n",
              "<p>2225 rows × 2 columns</p>\n",
              "</div>"
            ],
            "text/plain": [
              "           category                                               text\n",
              "0              tech  tv future in the hands of viewers with home th...\n",
              "1          business  worldcom boss  left books alone  former worldc...\n",
              "2             sport  tigers wary of farrell  gamble  leicester say ...\n",
              "3             sport  yeading face newcastle in fa cup premiership s...\n",
              "4     entertainment  ocean s twelve raids box office ocean s twelve...\n",
              "...             ...                                                ...\n",
              "2220       business  cars pull down us retail figures us retail sal...\n",
              "2221       politics  kilroy unveils immigration policy ex-chatshow ...\n",
              "2222  entertainment  rem announce new glasgow concert us band rem h...\n",
              "2223       politics  how political squabbles snowball it s become c...\n",
              "2224          sport  souness delight at euro progress boss graeme s...\n",
              "\n",
              "[2225 rows x 2 columns]"
            ]
          },
          "metadata": {
            "tags": []
          },
          "execution_count": 6
        }
      ]
    },
    {
      "cell_type": "code",
      "metadata": {
        "id": "YkSEvtkfo70l",
        "colab_type": "code",
        "colab": {}
      },
      "source": [
        "# Salvando labels\n",
        "labels = df['category'].values"
      ],
      "execution_count": 7,
      "outputs": []
    },
    {
      "cell_type": "code",
      "metadata": {
        "id": "_tlGFVTypLH5",
        "colab_type": "code",
        "colab": {}
      },
      "source": [
        "# Percorrendo sentenças e trocando as stopwords\n",
        "sentences = []\n",
        "for row in df['text']:\n",
        "  for word in stopwords:\n",
        "    token = \" \" + word + \" \"\n",
        "    row = row.replace(token, \" \")\n",
        "  sentences.append(row)"
      ],
      "execution_count": 8,
      "outputs": []
    },
    {
      "cell_type": "code",
      "metadata": {
        "id": "WAOaPL8dzequ",
        "colab_type": "code",
        "colab": {
          "base_uri": "https://localhost:8080/",
          "height": 54
        },
        "outputId": "e2c5a001-9744-47e3-9bce-085edca2570e"
      },
      "source": [
        "sentences[0]"
      ],
      "execution_count": 9,
      "outputs": [
        {
          "output_type": "execute_result",
          "data": {
            "text/plain": [
              "'tv future hands viewers home theatre systems  plasma high-definition tvs  digital video recorders moving living room  way people watch tv will radically different five years  time.  according expert panel gathered annual consumer electronics show las vegas discuss new technologies will impact one favourite pastimes. us leading trend  programmes content will delivered viewers via home networks  cable  satellite  telecoms companies  broadband service providers front rooms portable devices.  one talked-about technologies ces digital personal video recorders (dvr pvr). set-top boxes  like us s tivo uk s sky+ system  allow people record  store  play  pause forward wind tv programmes want.  essentially  technology allows much personalised tv. also built-in high-definition tv sets  big business japan us  slower take off europe lack high-definition programming. not can people forward wind adverts  can also forget abiding network channel schedules  putting together a-la-carte entertainment. us networks cable satellite companies worried means terms advertising revenues well  brand identity  viewer loyalty channels. although us leads technology moment  also concern raised europe  particularly growing uptake services like sky+.  happens today  will see nine months years  time uk   adam hume  bbc broadcast s futurologist told bbc news website. likes bbc  no issues lost advertising revenue yet. pressing issue moment commercial uk broadcasters  brand loyalty important everyone.  will talking content brands rather network brands   said tim hanlon  brand communications firm starcom mediavest.  reality broadband connections  anybody can producer content.  added:  challenge now hard promote programme much choice.   means  said stacey jolna  senior vice president tv guide tv group  way people find content want watch simplified tv viewers. means networks  us terms  channels take leaf google s book search engine future  instead scheduler help people find want watch. kind channel model might work younger ipod generation used taking control gadgets play them. might not suit everyone  panel recognised. older generations comfortable familiar schedules channel brands know getting. perhaps not want much choice put hands  mr hanlon suggested.  end  kids just diapers pushing buttons already - everything possible available   said mr hanlon.  ultimately  consumer will tell market want.   50 000 new gadgets technologies showcased ces  many enhancing tv-watching experience. high-definition tv sets everywhere many new models lcd (liquid crystal display) tvs launched dvr capability built  instead external boxes. one example launched show humax s 26-inch lcd tv 80-hour tivo dvr dvd recorder. one us s biggest satellite tv companies  directtv  even launched branded dvr show 100-hours recording capability  instant replay  search function. set can pause rewind tv 90 hours. microsoft chief bill gates announced pre-show keynote speech partnership tivo  called tivotogo  means people can play recorded programmes windows pcs mobile devices. reflect increasing trend freeing multimedia people can watch want  want.'"
            ]
          },
          "metadata": {
            "tags": []
          },
          "execution_count": 9
        }
      ]
    },
    {
      "cell_type": "code",
      "metadata": {
        "id": "1ZCgAE5XpvZL",
        "colab_type": "code",
        "colab": {
          "base_uri": "https://localhost:8080/",
          "height": 50
        },
        "outputId": "e672c9d3-291b-40a2-920e-15ff8f924873"
      },
      "source": [
        "# Vendo tamanho das listas resultantes\n",
        "print(len(labels))\n",
        "print(len(sentences))"
      ],
      "execution_count": 10,
      "outputs": [
        {
          "output_type": "stream",
          "text": [
            "2225\n",
            "2225\n"
          ],
          "name": "stdout"
        }
      ]
    },
    {
      "cell_type": "code",
      "metadata": {
        "id": "MzQzEhwupyfK",
        "colab_type": "code",
        "colab": {
          "base_uri": "https://localhost:8080/",
          "height": 101
        },
        "outputId": "b0bd5496-3f34-479e-c18c-336ac9257c9e"
      },
      "source": [
        "# Dividindo em train e test\n",
        "\n",
        "# Criando calculo de index para porção de treino\n",
        "train_size = int(len(sentences)*training_portion)\n",
        "print(train_size)\n",
        "\n",
        "# Dividindo\n",
        "train_sen = sentences[:train_size] \n",
        "test_sen = sentences[train_size:]\n",
        "train_lab = labels[:train_size]\n",
        "test_lab = labels[train_size:]\n",
        "\n",
        "# Print dos tamanhos resultados\n",
        "print(len(train_sen))\n",
        "print(len(test_sen))\n",
        "print(len(train_lab))\n",
        "print(len(test_lab))"
      ],
      "execution_count": 11,
      "outputs": [
        {
          "output_type": "stream",
          "text": [
            "1780\n",
            "1780\n",
            "445\n",
            "1780\n",
            "445\n"
          ],
          "name": "stdout"
        }
      ]
    },
    {
      "cell_type": "code",
      "metadata": {
        "id": "V9g3pM1cq3sR",
        "colab_type": "code",
        "colab": {
          "base_uri": "https://localhost:8080/",
          "height": 67
        },
        "outputId": "1503069e-be0e-492d-da4b-996573ad57ce"
      },
      "source": [
        "# Processo de tokenização\n",
        "\n",
        "# Iniciando tokenizer com numero de vocab definido e oov token\n",
        "tokenizer = Tokenizer(num_words=vocab_size, oov_token=oov_tok)\n",
        "# Fitando no dataset de treino \n",
        "tokenizer.fit_on_texts(train_sen)\n",
        "# Criando word_index\n",
        "word_index = tokenizer.word_index\n",
        "\n",
        "# Criando sequencias e padding\n",
        "train_sequence = tokenizer.texts_to_sequences(train_sen)\n",
        "train_pad = pad_sequences(train_sequence,maxlen=max_length, padding=padding_type)  \n",
        "\n",
        "# Nossas colunas = max_len (max de tamanho da matriz)\n",
        "print(train_pad.shape)\n",
        "\n",
        "# Exemplos\n",
        "# Tamanho da sentença\n",
        "print(len(train_sequence[0]))\n",
        "# Tamanho da senteça pós padding\n",
        "print(len(train_pad[0]))"
      ],
      "execution_count": 12,
      "outputs": [
        {
          "output_type": "stream",
          "text": [
            "(1780, 120)\n",
            "449\n",
            "120\n"
          ],
          "name": "stdout"
        }
      ]
    },
    {
      "cell_type": "code",
      "metadata": {
        "id": "NpdtvfDYrS2d",
        "colab_type": "code",
        "colab": {
          "base_uri": "https://localhost:8080/",
          "height": 50
        },
        "outputId": "4a75ed10-5ced-443f-9fc7-cc9fabf68689"
      },
      "source": [
        "# Aplicando tokenizador ja criado no dataset de test\n",
        "test_sequences = tokenizer.texts_to_sequences(test_sen)\n",
        "test_pad = pad_sequences(test_sequences, padding=padding_type, maxlen=max_length)  \n",
        "\n",
        "print(len(test_sequences))\n",
        "print(test_pad.shape)"
      ],
      "execution_count": 13,
      "outputs": [
        {
          "output_type": "stream",
          "text": [
            "445\n",
            "(445, 120)\n"
          ],
          "name": "stdout"
        }
      ]
    },
    {
      "cell_type": "code",
      "metadata": {
        "id": "D2GqHhKVs_r0",
        "colab_type": "code",
        "colab": {
          "base_uri": "https://localhost:8080/",
          "height": 151
        },
        "outputId": "d0f3110a-0d49-4891-a806-16c1400188bc"
      },
      "source": [
        "# Tokenizando labels\n",
        "label_tokenizer = Tokenizer()\n",
        "label_tokenizer.fit_on_texts(train_lab)\n",
        "\n",
        "# Padding\n",
        "train_label_seq = np.array(label_tokenizer.texts_to_sequences(train_lab)) \n",
        "test_label_seq = np.array(label_tokenizer.texts_to_sequences(test_lab))\n",
        "\n",
        "# Exemplos\n",
        "print(train_label_seq[0])\n",
        "print(train_label_seq[2])\n",
        "print(train_label_seq[4])\n",
        "print(train_label_seq.shape)\n",
        "\n",
        "print(test_label_seq[0])\n",
        "print(test_label_seq[2])\n",
        "print(test_label_seq[4])\n",
        "print(test_label_seq.shape)"
      ],
      "execution_count": 14,
      "outputs": [
        {
          "output_type": "stream",
          "text": [
            "[5]\n",
            "[1]\n",
            "[4]\n",
            "(1780, 1)\n",
            "[4]\n",
            "[3]\n",
            "[1]\n",
            "(445, 1)\n"
          ],
          "name": "stdout"
        }
      ]
    },
    {
      "cell_type": "code",
      "metadata": {
        "id": "TYBe4rVDwqP1",
        "colab_type": "code",
        "colab": {
          "base_uri": "https://localhost:8080/",
          "height": 34
        },
        "outputId": "fb176c5f-63f7-47fd-c4ef-a3ed930ebda2"
      },
      "source": [
        "train_pad.shape, test_pad.shape"
      ],
      "execution_count": 15,
      "outputs": [
        {
          "output_type": "execute_result",
          "data": {
            "text/plain": [
              "((1780, 120), (445, 120))"
            ]
          },
          "metadata": {
            "tags": []
          },
          "execution_count": 15
        }
      ]
    },
    {
      "cell_type": "code",
      "metadata": {
        "id": "T52b-dj_twyA",
        "colab_type": "code",
        "colab": {
          "base_uri": "https://localhost:8080/",
          "height": 286
        },
        "outputId": "62f48439-1dd6-4b53-8404-5c0dbf994717"
      },
      "source": [
        "# Montando modelo\n",
        "\n",
        "model = tf.keras.Sequential([\n",
        "    tf.keras.layers.Embedding(vocab_size, embedding_dim, input_length=max_length),\n",
        "    tf.keras.layers.GlobalAveragePooling1D(),\n",
        "    tf.keras.layers.Dense(20, activation='relu'),\n",
        "    tf.keras.layers.Dense(6, activation='softmax')\n",
        "])\n",
        "\n",
        "model.compile(loss='sparse_categorical_crossentropy',optimizer='adam',metrics=['accuracy'])\n",
        "\n",
        "model.summary()"
      ],
      "execution_count": 16,
      "outputs": [
        {
          "output_type": "stream",
          "text": [
            "Model: \"sequential\"\n",
            "_________________________________________________________________\n",
            "Layer (type)                 Output Shape              Param #   \n",
            "=================================================================\n",
            "embedding (Embedding)        (None, 120, 16)           16000     \n",
            "_________________________________________________________________\n",
            "global_average_pooling1d (Gl (None, 16)                0         \n",
            "_________________________________________________________________\n",
            "dense (Dense)                (None, 20)                340       \n",
            "_________________________________________________________________\n",
            "dense_1 (Dense)              (None, 6)                 126       \n",
            "=================================================================\n",
            "Total params: 16,466\n",
            "Trainable params: 16,466\n",
            "Non-trainable params: 0\n",
            "_________________________________________________________________\n"
          ],
          "name": "stdout"
        }
      ]
    },
    {
      "cell_type": "code",
      "metadata": {
        "id": "xS8R6dTGuNBT",
        "colab_type": "code",
        "colab": {
          "base_uri": "https://localhost:8080/",
          "height": 1000
        },
        "outputId": "0606b640-4c2f-4326-b5ab-2aac3788ec5c"
      },
      "source": [
        "history = model.fit(\n",
        "    train_pad,\n",
        "    train_label_seq,\n",
        "    epochs=30,\n",
        "    validation_data=(test_pad, test_label_seq),\n",
        "    verbose=1\n",
        "\n",
        "    )"
      ],
      "execution_count": 17,
      "outputs": [
        {
          "output_type": "stream",
          "text": [
            "Epoch 1/30\n",
            "56/56 [==============================] - 0s 7ms/step - loss: 1.7660 - accuracy: 0.2455 - val_loss: 1.7347 - val_accuracy: 0.2989\n",
            "Epoch 2/30\n",
            "56/56 [==============================] - 0s 4ms/step - loss: 1.6940 - accuracy: 0.3483 - val_loss: 1.6487 - val_accuracy: 0.2944\n",
            "Epoch 3/30\n",
            "56/56 [==============================] - 0s 4ms/step - loss: 1.5948 - accuracy: 0.3826 - val_loss: 1.5441 - val_accuracy: 0.3910\n",
            "Epoch 4/30\n",
            "56/56 [==============================] - 0s 4ms/step - loss: 1.4755 - accuracy: 0.4180 - val_loss: 1.4149 - val_accuracy: 0.4607\n",
            "Epoch 5/30\n",
            "56/56 [==============================] - 0s 4ms/step - loss: 1.3245 - accuracy: 0.5208 - val_loss: 1.2594 - val_accuracy: 0.6719\n",
            "Epoch 6/30\n",
            "56/56 [==============================] - 0s 4ms/step - loss: 1.1542 - accuracy: 0.6916 - val_loss: 1.0962 - val_accuracy: 0.7191\n",
            "Epoch 7/30\n",
            "56/56 [==============================] - 0s 4ms/step - loss: 0.9901 - accuracy: 0.7826 - val_loss: 0.9449 - val_accuracy: 0.7685\n",
            "Epoch 8/30\n",
            "56/56 [==============================] - 0s 4ms/step - loss: 0.8411 - accuracy: 0.8163 - val_loss: 0.8101 - val_accuracy: 0.8202\n",
            "Epoch 9/30\n",
            "56/56 [==============================] - 0s 4ms/step - loss: 0.7112 - accuracy: 0.8534 - val_loss: 0.7002 - val_accuracy: 0.8831\n",
            "Epoch 10/30\n",
            "56/56 [==============================] - 0s 5ms/step - loss: 0.6030 - accuracy: 0.8944 - val_loss: 0.6115 - val_accuracy: 0.8876\n",
            "Epoch 11/30\n",
            "56/56 [==============================] - 0s 4ms/step - loss: 0.5151 - accuracy: 0.9174 - val_loss: 0.5331 - val_accuracy: 0.8966\n",
            "Epoch 12/30\n",
            "56/56 [==============================] - 0s 4ms/step - loss: 0.4393 - accuracy: 0.9303 - val_loss: 0.4769 - val_accuracy: 0.8966\n",
            "Epoch 13/30\n",
            "56/56 [==============================] - 0s 4ms/step - loss: 0.3779 - accuracy: 0.9404 - val_loss: 0.4291 - val_accuracy: 0.9056\n",
            "Epoch 14/30\n",
            "56/56 [==============================] - 0s 4ms/step - loss: 0.3284 - accuracy: 0.9478 - val_loss: 0.3920 - val_accuracy: 0.9056\n",
            "Epoch 15/30\n",
            "56/56 [==============================] - 0s 4ms/step - loss: 0.2874 - accuracy: 0.9551 - val_loss: 0.3599 - val_accuracy: 0.9124\n",
            "Epoch 16/30\n",
            "56/56 [==============================] - 0s 4ms/step - loss: 0.2533 - accuracy: 0.9590 - val_loss: 0.3344 - val_accuracy: 0.9124\n",
            "Epoch 17/30\n",
            "56/56 [==============================] - 0s 4ms/step - loss: 0.2236 - accuracy: 0.9657 - val_loss: 0.3146 - val_accuracy: 0.9191\n",
            "Epoch 18/30\n",
            "56/56 [==============================] - 0s 4ms/step - loss: 0.1990 - accuracy: 0.9708 - val_loss: 0.2993 - val_accuracy: 0.9169\n",
            "Epoch 19/30\n",
            "56/56 [==============================] - 0s 4ms/step - loss: 0.1782 - accuracy: 0.9725 - val_loss: 0.2878 - val_accuracy: 0.9213\n",
            "Epoch 20/30\n",
            "56/56 [==============================] - 0s 4ms/step - loss: 0.1603 - accuracy: 0.9742 - val_loss: 0.2780 - val_accuracy: 0.9281\n",
            "Epoch 21/30\n",
            "56/56 [==============================] - 0s 4ms/step - loss: 0.1449 - accuracy: 0.9770 - val_loss: 0.2632 - val_accuracy: 0.9258\n",
            "Epoch 22/30\n",
            "56/56 [==============================] - 0s 4ms/step - loss: 0.1307 - accuracy: 0.9781 - val_loss: 0.2600 - val_accuracy: 0.9236\n",
            "Epoch 23/30\n",
            "56/56 [==============================] - 0s 4ms/step - loss: 0.1193 - accuracy: 0.9809 - val_loss: 0.2523 - val_accuracy: 0.9213\n",
            "Epoch 24/30\n",
            "56/56 [==============================] - 0s 4ms/step - loss: 0.1081 - accuracy: 0.9860 - val_loss: 0.2437 - val_accuracy: 0.9258\n",
            "Epoch 25/30\n",
            "56/56 [==============================] - 0s 4ms/step - loss: 0.0987 - accuracy: 0.9876 - val_loss: 0.2387 - val_accuracy: 0.9236\n",
            "Epoch 26/30\n",
            "56/56 [==============================] - 0s 4ms/step - loss: 0.0903 - accuracy: 0.9888 - val_loss: 0.2343 - val_accuracy: 0.9258\n",
            "Epoch 27/30\n",
            "56/56 [==============================] - 0s 4ms/step - loss: 0.0825 - accuracy: 0.9933 - val_loss: 0.2377 - val_accuracy: 0.9236\n",
            "Epoch 28/30\n",
            "56/56 [==============================] - 0s 4ms/step - loss: 0.0756 - accuracy: 0.9938 - val_loss: 0.2310 - val_accuracy: 0.9213\n",
            "Epoch 29/30\n",
            "56/56 [==============================] - 0s 4ms/step - loss: 0.0692 - accuracy: 0.9949 - val_loss: 0.2323 - val_accuracy: 0.9236\n",
            "Epoch 30/30\n",
            "56/56 [==============================] - 0s 4ms/step - loss: 0.0637 - accuracy: 0.9966 - val_loss: 0.2276 - val_accuracy: 0.9236\n"
          ],
          "name": "stdout"
        }
      ]
    },
    {
      "cell_type": "code",
      "metadata": {
        "id": "OpoWbL6Gv_Sn",
        "colab_type": "code",
        "colab": {
          "base_uri": "https://localhost:8080/",
          "height": 541
        },
        "outputId": "81c2b66a-f789-4f93-c6cb-9f3f2a9967da"
      },
      "source": [
        "# Plotando\n",
        "\n",
        "import matplotlib.pyplot as plt\n",
        "\n",
        "\n",
        "def plot_graphs(history, string):\n",
        "  plt.plot(history.history[string])\n",
        "  plt.plot(history.history['val_'+string])\n",
        "  plt.xlabel(\"Epochs\")\n",
        "  plt.ylabel(string)\n",
        "  plt.legend([string, 'val_'+string])\n",
        "  plt.show()\n",
        "  \n",
        "plot_graphs(history, \"accuracy\")\n",
        "plot_graphs(history, \"loss\")"
      ],
      "execution_count": 18,
      "outputs": [
        {
          "output_type": "display_data",
          "data": {
            "image/png": "[encoded data removed]",
            "text/plain": [
              "<Figure size 432x288 with 1 Axes>"
            ]
          },
          "metadata": {
            "tags": [],
            "needs_background": "light"
          }
        },
        {
          "output_type": "display_data",
          "data": {
            "image/png": "[encoded data removed]",
            "text/plain": [
              "<Figure size 432x288 with 1 Axes>"
            ]
          },
          "metadata": {
            "tags": [],
            "needs_background": "light"
          }
        }
      ]
    },
    {
      "cell_type": "code",
      "metadata": {
        "id": "0hzBKjAYxSGi",
        "colab_type": "code",
        "colab": {}
      },
      "source": [
        "# Código para trocar a chave e a palavra no word_index para poder usar \n",
        "# para visualização do embedding vector\n",
        "\n",
        "reverse_word_index = dict([(value, key) for (key, value) in word_index.items()])\n",
        "\n",
        "def decode_sentence(text):\n",
        "    return ' '.join([reverse_word_index.get(i, '?') for i in text])"
      ],
      "execution_count": 19,
      "outputs": []
    },
    {
      "cell_type": "code",
      "metadata": {
        "id": "b1FlhlXl1_LP",
        "colab_type": "code",
        "colab": {
          "base_uri": "https://localhost:8080/",
          "height": 34
        },
        "outputId": "7de6e04a-eea1-4cda-e158-12987f5312ef"
      },
      "source": [
        "# Pegando pesos do Embedding\n",
        "\n",
        "e = model.layers[0]\n",
        "weights = e.get_weights()[0]\n",
        "print(weights.shape) # shape: (vocab_size, embedding_dim)\n"
      ],
      "execution_count": 20,
      "outputs": [
        {
          "output_type": "stream",
          "text": [
            "(1000, 16)\n"
          ],
          "name": "stdout"
        }
      ]
    },
    {
      "cell_type": "code",
      "metadata": {
        "id": "wP9IfEHS2D5-",
        "colab_type": "code",
        "colab": {}
      },
      "source": [
        "# Para baixar os vetores e upar no http://projector.tensorflow.org/\n",
        "\n",
        "import io\n",
        "\n",
        "out_v = io.open('vecs.tsv', 'w', encoding='utf-8')\n",
        "out_m = io.open('meta.tsv', 'w', encoding='utf-8')\n",
        "for word_num in range(1, vocab_size):\n",
        "  word = reverse_word_index[word_num]\n",
        "  embeddings = weights[word_num]\n",
        "  out_m.write(word + \"\\n\")\n",
        "  out_v.write('\\t'.join([str(x) for x in embeddings]) + \"\\n\")\n",
        "out_v.close()\n",
        "out_m.close()\n",
        "\n",
        "# Cria um arquivo de METADADOS e um arquivo de VETOR\n",
        "# Ambos .tsv para usar no site projector do Tensorflow"
      ],
      "execution_count": 21,
      "outputs": []
    },
    {
      "cell_type": "code",
      "metadata": {
        "id": "oBf88P3L2Hum",
        "colab_type": "code",
        "colab": {
          "base_uri": "https://localhost:8080/",
          "height": 17
        },
        "outputId": "f953431f-12e3-474f-cd35-62469bff4304"
      },
      "source": [
        "try:\n",
        "  from google.colab import files\n",
        "except ImportError:\n",
        "  pass\n",
        "else:\n",
        "  files.download('vecs.tsv')\n",
        "  files.download('meta.tsv')"
      ],
      "execution_count": 22,
      "outputs": [
        {
          "output_type": "display_data",
          "data": {
            "application/javascript": [
              "\n",
              "    async function download(id, filename, size) {\n",
              "      if (!google.colab.kernel.accessAllowed) {\n",
              "        return;\n",
              "      }\n",
              "      const div = document.createElement('div');\n",
              "      const label = document.createElement('label');\n",
              "      label.textContent = `Downloading \"${filename}\": `;\n",
              "      div.appendChild(label);\n",
              "      const progress = document.createElement('progress');\n",
              "      progress.max = size;\n",
              "      div.appendChild(progress);\n",
              "      document.body.appendChild(div);\n",
              "\n",
              "      const buffers = [];\n",
              "      let downloaded = 0;\n",
              "\n",
              "      const channel = await google.colab.kernel.comms.open(id);\n",
              "      // Send a message to notify the kernel that we're ready.\n",
              "      channel.send({})\n",
              "\n",
              "      for await (const message of channel.messages) {\n",
              "        // Send a message to notify the kernel that we're ready.\n",
              "        channel.send({})\n",
              "        if (message.buffers) {\n",
              "          for (const buffer of message.buffers) {\n",
              "            buffers.push(buffer);\n",
              "            downloaded += buffer.byteLength;\n",
              "            progress.value = downloaded;\n",
              "          }\n",
              "        }\n",
              "      }\n",
              "      const blob = new Blob(buffers, {type: 'application/binary'});\n",
              "      const a = document.createElement('a');\n",
              "      a.href = window.URL.createObjectURL(blob);\n",
              "      a.download = filename;\n",
              "      div.appendChild(a);\n",
              "      a.click();\n",
              "      div.remove();\n",
              "    }\n",
              "  "
            ],
            "text/plain": [
              "<IPython.core.display.Javascript object>"
            ]
          },
          "metadata": {
            "tags": []
          }
        },
        {
          "output_type": "display_data",
          "data": {
            "application/javascript": [
              "download(\"download_3cb31dfb-3fa0-49e3-a5b6-60460d59cb63\", \"vecs.tsv\", 181459)"
            ],
            "text/plain": [
              "<IPython.core.display.Javascript object>"
            ]
          },
          "metadata": {
            "tags": []
          }
        },
        {
          "output_type": "display_data",
          "data": {
            "application/javascript": [
              "\n",
              "    async function download(id, filename, size) {\n",
              "      if (!google.colab.kernel.accessAllowed) {\n",
              "        return;\n",
              "      }\n",
              "      const div = document.createElement('div');\n",
              "      const label = document.createElement('label');\n",
              "      label.textContent = `Downloading \"${filename}\": `;\n",
              "      div.appendChild(label);\n",
              "      const progress = document.createElement('progress');\n",
              "      progress.max = size;\n",
              "      div.appendChild(progress);\n",
              "      document.body.appendChild(div);\n",
              "\n",
              "      const buffers = [];\n",
              "      let downloaded = 0;\n",
              "\n",
              "      const channel = await google.colab.kernel.comms.open(id);\n",
              "      // Send a message to notify the kernel that we're ready.\n",
              "      channel.send({})\n",
              "\n",
              "      for await (const message of channel.messages) {\n",
              "        // Send a message to notify the kernel that we're ready.\n",
              "        channel.send({})\n",
              "        if (message.buffers) {\n",
              "          for (const buffer of message.buffers) {\n",
              "            buffers.push(buffer);\n",
              "            downloaded += buffer.byteLength;\n",
              "            progress.value = downloaded;\n",
              "          }\n",
              "        }\n",
              "      }\n",
              "      const blob = new Blob(buffers, {type: 'application/binary'});\n",
              "      const a = document.createElement('a');\n",
              "      a.href = window.URL.createObjectURL(blob);\n",
              "      a.download = filename;\n",
              "      div.appendChild(a);\n",
              "      a.click();\n",
              "      div.remove();\n",
              "    }\n",
              "  "
            ],
            "text/plain": [
              "<IPython.core.display.Javascript object>"
            ]
          },
          "metadata": {
            "tags": []
          }
        },
        {
          "output_type": "display_data",
          "data": {
            "application/javascript": [
              "download(\"download_0ae10dde-ee94-431e-9efa-3d9d2c78ab86\", \"meta.tsv\", 6529)"
            ],
            "text/plain": [
              "<IPython.core.display.Javascript object>"
            ]
          },
          "metadata": {
            "tags": []
          }
        }
      ]
    },
    {
      "cell_type": "code",
      "metadata": {
        "id": "7V-sEcWr2JIx",
        "colab_type": "code",
        "colab": {}
      },
      "source": [
        ""
      ],
      "execution_count": null,
      "outputs": []
    }
  ]
}