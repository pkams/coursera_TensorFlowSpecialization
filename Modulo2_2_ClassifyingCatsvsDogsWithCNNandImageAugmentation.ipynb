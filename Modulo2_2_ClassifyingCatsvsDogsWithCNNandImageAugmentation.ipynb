{
  "nbformat": 4,
  "nbformat_minor": 0,
  "metadata": {
    "kernelspec": {
      "display_name": "Python 3",
      "language": "python",
      "name": "python3"
    },
    "language_info": {
      "codemirror_mode": {
        "name": "ipython",
        "version": 3
      },
      "file_extension": ".py",
      "mimetype": "text/x-python",
      "name": "python",
      "nbconvert_exporter": "python",
      "pygments_lexer": "ipython3",
      "version": "3.7.6"
    },
    "colab": {
      "name": "Modulo2_2_ClassifyingCatsvsDogsWithCNNandImageAugmentation.ipynb",
      "provenance": []
    },
    "accelerator": "GPU"
  },
  "cells": [
    {
      "cell_type": "code",
      "metadata": {
        "id": "t7BbHtOaqCDs",
        "colab_type": "code",
        "colab": {}
      },
      "source": [
        "# Este exemplo tem como objetivo classificar Gatos e Cachorros,\n",
        "# Porém além de usar as imagens de treino e teste também utilizarei\n",
        "# a técnica de aumento de imagem criando imagens artificiais usando\n",
        "# o imageDataGenerator"
      ],
      "execution_count": null,
      "outputs": []
    },
    {
      "cell_type": "code",
      "metadata": {
        "id": "ojg4-adsqCDy",
        "colab_type": "code",
        "colab": {}
      },
      "source": [
        "# Bibliotecas\n",
        "import os\n",
        "import zipfile\n",
        "import zipfile\n",
        "import random\n",
        "import tensorflow as tf\n",
        "\n",
        "from shutil import copyfile # para copiar arquivos de uma pasta para outra\n",
        "from tensorflow.keras.preprocessing.image import ImageDataGenerator"
      ],
      "execution_count": 29,
      "outputs": []
    },
    {
      "cell_type": "code",
      "metadata": {
        "id": "wX1omLNUqux_",
        "colab_type": "code",
        "colab": {
          "base_uri": "https://localhost:8080/",
          "height": 168
        },
        "outputId": "48ed746c-44a2-4a52-f062-9b180f988d57"
      },
      "source": [
        "# Caso fosse necessário baixar iria executar: (vai estar em modo texto pois já foi feito para exercicio anterior)\n",
        "!pip install wget # para instalar no google colab\n",
        "\n",
        "import wget\n",
        "\n",
        "url = \"https://download.microsoft.com/download/3/E/1/3E1C3F21-ECDB-4869-8368-6DEBA77B919F/kagglecatsanddogs_3367a.zip\"\n",
        "filename = wget.download(url)"
      ],
      "execution_count": 1,
      "outputs": [
        {
          "output_type": "stream",
          "text": [
            "Collecting wget\n",
            "  Downloading https://files.pythonhosted.org/packages/47/6a/62e288da7bcda82b935ff0c6cfe542970f04e29c756b0e147251b2fb251f/wget-3.2.zip\n",
            "Building wheels for collected packages: wget\n",
            "  Building wheel for wget (setup.py) ... \u001b[?25l\u001b[?25hdone\n",
            "  Created wheel for wget: filename=wget-3.2-cp36-none-any.whl size=9682 sha256=8c086984e01a6f2d75c6bbfb3c149c2a0bc1197f9421ca180cf9de84cfea7c2d\n",
            "  Stored in directory: /root/.cache/pip/wheels/40/15/30/7d8f7cea2902b4db79e3fea550d7d7b85ecb27ef992b618f3f\n",
            "Successfully built wget\n",
            "Installing collected packages: wget\n",
            "Successfully installed wget-3.2\n"
          ],
          "name": "stdout"
        }
      ]
    },
    {
      "cell_type": "code",
      "metadata": {
        "id": "PqZJtT4KqxCl",
        "colab_type": "code",
        "colab": {}
      },
      "source": [
        "# Caso fosse necessário dezipar:\n",
        "\n",
        "local_zip = '/content/kagglecatsanddogs_3367a.zip'\n",
        "zip_ref = zipfile.ZipFile(local_zip, 'r') # abrindo em modo leitura\n",
        "zip_ref.extractall('temp') # Extraindo\n",
        "zip_ref.close() # Fechando"
      ],
      "execution_count": 20,
      "outputs": []
    },
    {
      "cell_type": "code",
      "metadata": {
        "id": "-RV-RyGnqxHT",
        "colab_type": "code",
        "colab": {
          "base_uri": "https://localhost:8080/",
          "height": 50
        },
        "outputId": "ed05f856-29cc-48ba-f74e-a37475a124c0"
      },
      "source": [
        "# Verificando quantidade de arquivos\n",
        "print(len(os.listdir('temp/PetImages/Cat')))\n",
        "print(len(os.listdir('temp/PetImages/Dog')))"
      ],
      "execution_count": 21,
      "outputs": [
        {
          "output_type": "stream",
          "text": [
            "12501\n",
            "12501\n"
          ],
          "name": "stdout"
        }
      ]
    },
    {
      "cell_type": "code",
      "metadata": {
        "id": "J7l5k-IMqCD4",
        "colab_type": "code",
        "colab": {}
      },
      "source": [
        "# Criando as pasta\n",
        "try:\n",
        "    os.mkdir('/content/cats-v-dogs')\n",
        "    os.mkdir('/content/cats-v-dogs/training')\n",
        "    os.mkdir('/content/cats-v-dogs/testing')\n",
        "    os.mkdir('/content/cats-v-dogs/training/cats')\n",
        "    os.mkdir('/content/cats-v-dogs/training/dogs')\n",
        "    os.mkdir('/content/cats-v-dogs/testing/cats')\n",
        "    os.mkdir('/content/cats-v-dogs/testing/dogs')\n",
        "except OSError:\n",
        "    pass"
      ],
      "execution_count": 35,
      "outputs": []
    },
    {
      "cell_type": "code",
      "metadata": {
        "id": "9LwzkYwhqCD8",
        "colab_type": "code",
        "colab": {}
      },
      "source": [
        "# Criando função que fará o split dos dados:\n",
        "\n",
        "def split_data(source, training, testing, splitsize):\n",
        "    # Copiando todos os nomes\n",
        "    file_list = []\n",
        "    for filename in os.listdir(source):\n",
        "        file = source + filename\n",
        "        if os.path.getsize(file) > 0:\n",
        "            file_list.append(filename)\n",
        "        else:\n",
        "            print(filename + ' is zero length, so ignoring.')\n",
        "    \n",
        "    # Randomizando e Separando em listas de treino e de teste \n",
        "    training_len = int(len(file_list)*splitsize) # qtde de treino\n",
        "    testing_len = int(len(file_list)-training_len) # qtde de teste\n",
        "    shuffled_set = random.sample(file_list, len(file_list)) # randomizando todos arquivos\n",
        "    training_set = shuffled_set[0:training_len]\n",
        "    testing_set = shuffled_set[training_len:]\n",
        "    \n",
        "    # Usando os nomes das imagens, copiar de uma pasta para outra\n",
        "    for filename in training_set:\n",
        "        copyfile(source+filename, training+filename)\n",
        "    for filename in testing_set:\n",
        "        copyfile(source+filename, testing+filename)\n"
      ],
      "execution_count": 36,
      "outputs": []
    },
    {
      "cell_type": "code",
      "metadata": {
        "id": "2oMEPddFr3Ip",
        "colab_type": "code",
        "colab": {
          "base_uri": "https://localhost:8080/",
          "height": 50
        },
        "outputId": "ca435033-ea51-448b-d176-5aa2fee0b254"
      },
      "source": [
        "# Mesma pasta que descompactamos\n",
        "cat_source = '/content/temp/PetImages/Cat/'\n",
        "dog_source = '/content/temp/PetImages/Dog/'\n",
        "\n",
        "# Pastas criadas anteriormente\n",
        "training_cats_dir = 'cats-v-dogs/training/cats/'\n",
        "training_dogs_dir = 'cats-v-dogs/training/dogs/'\n",
        "testing_cats_dir = 'cats-v-dogs/testing/cats/'\n",
        "testing_dogs_dir = 'cats-v-dogs/testing/dogs/'\n",
        "\n",
        "split_size= .9\n",
        "\n",
        "split_data(cat_source, training_cats_dir, testing_cats_dir, split_size)\n",
        "split_data(dog_source, training_dogs_dir, testing_dogs_dir, split_size)"
      ],
      "execution_count": 37,
      "outputs": [
        {
          "output_type": "stream",
          "text": [
            "666.jpg is zero length, so ignoring.\n",
            "11702.jpg is zero length, so ignoring.\n"
          ],
          "name": "stdout"
        }
      ]
    },
    {
      "cell_type": "code",
      "metadata": {
        "id": "UIgwsI6-qCEA",
        "colab_type": "code",
        "colab": {
          "base_uri": "https://localhost:8080/",
          "height": 84
        },
        "outputId": "1782cedc-06ea-43f3-91e1-7cf0b33a5da0"
      },
      "source": [
        "# Observando os resultados das separações\n",
        "# os.listdir(path) => Retorna lista de arquivos no diretório\n",
        "print(len(os.listdir('cats-v-dogs/training/cats')))\n",
        "print(len(os.listdir('cats-v-dogs/training/dogs')))\n",
        "print(len(os.listdir('cats-v-dogs/testing/cats')))\n",
        "print(len(os.listdir('cats-v-dogs/testing/dogs')))"
      ],
      "execution_count": 38,
      "outputs": [
        {
          "output_type": "stream",
          "text": [
            "11250\n",
            "11250\n",
            "1250\n",
            "1250\n"
          ],
          "name": "stdout"
        }
      ]
    },
    {
      "cell_type": "code",
      "metadata": {
        "id": "yhEdVaUyv4_d",
        "colab_type": "code",
        "colab": {
          "base_uri": "https://localhost:8080/",
          "height": 50
        },
        "outputId": "55243ad8-7c1a-486a-f8ec-c23419254c21"
      },
      "source": [
        "# Criando datagenerator.\n",
        "# Desta vez vamos passar mais parametros além do \"rescale\"\n",
        "# Quanto mais parametros utilizarmos, mais possibilidades de aumento de imagens\n",
        "# Entretanto o custo computacional aumenta proporcionalmente\n",
        "# Veremos se passamos dos 80% de acurácia em teste.\n",
        "# Links uteis: \n",
        "# https://cdn-images-1.medium.com/max/1000/1*uwnaDjYuMuYyVK0m-5RcjQ.png\n",
        "# https://machinelearningmastery.com/how-to-configure-image-data-augmentation-when-training-deep-learning-neural-networks/\n",
        "\n",
        "training_dir = 'cats-v-dogs/training' \n",
        "testing_dir = 'cats-v-dogs/testing'\n",
        "\n",
        "# Training generator\n",
        "train_datagen = ImageDataGenerator(\n",
        "    rescale = 1./255, # rescalando\n",
        "    rotation_range = 40,\n",
        "    width_shift_range=0.2,\n",
        "    height_shift_range=0.2,\n",
        "    shear_range=0.2,\n",
        "    zoom_range=0.2,\n",
        "    horizontal_flip=True,\n",
        "    fill_mode='nearest' # como vai preencher quando tiver pixels nulos\n",
        ")\n",
        "\n",
        "train_generator = train_datagen.flow_from_directory(\n",
        "    training_dir,\n",
        "    batch_size=20,\n",
        "    class_mode='binary',\n",
        "    target_size=(150,150)\n",
        ")\n",
        "\n",
        "# Training generator\n",
        "valid_datagen = ImageDataGenerator(\n",
        "    rescale = 1./255, # rescalando\n",
        "    rotation_range = 40,\n",
        "    width_shift_range=0.2,\n",
        "    height_shift_range=0.2,\n",
        "    shear_range=0.2,\n",
        "    zoom_range=0.2,\n",
        "    horizontal_flip=True,\n",
        "    fill_mode='nearest' # como vai preencher quando tiver pixels nulos\n",
        ")\n",
        "\n",
        "valid_generator = valid_datagen.flow_from_directory(\n",
        "    testing_dir,\n",
        "    batch_size=20,\n",
        "    class_mode='binary',\n",
        "    target_size=(150,150)\n",
        ")"
      ],
      "execution_count": 60,
      "outputs": [
        {
          "output_type": "stream",
          "text": [
            "Found 22498 images belonging to 2 classes.\n",
            "Found 2500 images belonging to 2 classes.\n"
          ],
          "name": "stdout"
        }
      ]
    },
    {
      "cell_type": "code",
      "metadata": {
        "id": "Wg5YTBN9yWLI",
        "colab_type": "code",
        "colab": {}
      },
      "source": [
        "# Criando modelo CNN\n",
        "\n",
        "model = tf.keras.models.Sequential([\n",
        "    tf.keras.layers.Conv2D(32, (3,3), activation='relu', input_shape=(150,150,3)),\n",
        "    tf.keras.layers.MaxPooling2D(2,2),\n",
        "    tf.keras.layers.Conv2D(64, (3,3), activation='relu'),\n",
        "    tf.keras.layers.MaxPooling2D(2,2),\n",
        "    tf.keras.layers.Conv2D(128, (3,3), activation='relu'),\n",
        "    tf.keras.layers.MaxPooling2D(2,2),\n",
        "\n",
        "    tf.keras.layers.Flatten(),\n",
        "\n",
        "    tf.keras.layers.Dense(512, activation='relu'),\n",
        "    tf.keras.layers.Dense(1, activation='sigmoid')\n",
        "])"
      ],
      "execution_count": 51,
      "outputs": []
    },
    {
      "cell_type": "code",
      "metadata": {
        "id": "0gMlvAhHzDEg",
        "colab_type": "code",
        "colab": {
          "base_uri": "https://localhost:8080/",
          "height": 454
        },
        "outputId": "84c2ec7d-7d25-4bec-b572-1647334df5a8"
      },
      "source": [
        "model.summary()"
      ],
      "execution_count": 52,
      "outputs": [
        {
          "output_type": "stream",
          "text": [
            "Model: \"sequential_1\"\n",
            "_________________________________________________________________\n",
            "Layer (type)                 Output Shape              Param #   \n",
            "=================================================================\n",
            "conv2d_3 (Conv2D)            (None, 148, 148, 32)      896       \n",
            "_________________________________________________________________\n",
            "max_pooling2d_3 (MaxPooling2 (None, 74, 74, 32)        0         \n",
            "_________________________________________________________________\n",
            "conv2d_4 (Conv2D)            (None, 72, 72, 32)        9248      \n",
            "_________________________________________________________________\n",
            "max_pooling2d_4 (MaxPooling2 (None, 36, 36, 32)        0         \n",
            "_________________________________________________________________\n",
            "conv2d_5 (Conv2D)            (None, 34, 34, 64)        18496     \n",
            "_________________________________________________________________\n",
            "max_pooling2d_5 (MaxPooling2 (None, 17, 17, 64)        0         \n",
            "_________________________________________________________________\n",
            "flatten_1 (Flatten)          (None, 18496)             0         \n",
            "_________________________________________________________________\n",
            "dense_2 (Dense)              (None, 512)               9470464   \n",
            "_________________________________________________________________\n",
            "dense_3 (Dense)              (None, 1)                 513       \n",
            "=================================================================\n",
            "Total params: 9,499,617\n",
            "Trainable params: 9,499,617\n",
            "Non-trainable params: 0\n",
            "_________________________________________________________________\n"
          ],
          "name": "stdout"
        }
      ]
    },
    {
      "cell_type": "code",
      "metadata": {
        "id": "XIyY1hhyziZl",
        "colab_type": "code",
        "colab": {}
      },
      "source": [
        "# Indicando função de perda e otimizador\n",
        "model.compile(optimizer='rmsprop', loss='binary_crossentropy', metrics=['accuracy'])"
      ],
      "execution_count": 59,
      "outputs": []
    },
    {
      "cell_type": "code",
      "metadata": {
        "id": "h8YmryhlzxeH",
        "colab_type": "code",
        "colab": {
          "base_uri": "https://localhost:8080/",
          "height": 1000
        },
        "outputId": "987d1bc2-380f-43ce-eb93-a2b860e9590f"
      },
      "source": [
        "# Ignorando Warnings\n",
        "import warnings\n",
        "warnings.filterwarnings(\"ignore\")\n",
        "\n",
        "# Fitando\n",
        "history = model.fit(\n",
        "    train_generator, #carrega os dados (e suas labels)\n",
        "    steps_per_epoch=100, # 2000 images = batch_size * steps\n",
        "    epochs=100,\n",
        "    verbose=1,\n",
        "    validation_data=valid_generator,\n",
        "    validation_steps=50 # 1000 images = batch_size * steps\n",
        ")"
      ],
      "execution_count": null,
      "outputs": [
        {
          "output_type": "stream",
          "text": [
            "Epoch 1/100\n",
            "100/100 [==============================] - 24s 243ms/step - loss: 0.5020 - accuracy: 0.7613 - val_loss: 0.4758 - val_accuracy: 0.7970\n",
            "Epoch 2/100\n",
            "100/100 [==============================] - 24s 244ms/step - loss: 0.5119 - accuracy: 0.7505 - val_loss: 0.5434 - val_accuracy: 0.7590\n",
            "Epoch 3/100\n",
            "100/100 [==============================] - 25s 248ms/step - loss: 0.5182 - accuracy: 0.7495 - val_loss: 0.4601 - val_accuracy: 0.8070\n",
            "Epoch 4/100\n",
            "100/100 [==============================] - 24s 244ms/step - loss: 0.5271 - accuracy: 0.7535 - val_loss: 0.4989 - val_accuracy: 0.7740\n",
            "Epoch 5/100\n",
            "100/100 [==============================] - 25s 245ms/step - loss: 0.4915 - accuracy: 0.7685 - val_loss: 0.5318 - val_accuracy: 0.7790\n",
            "Epoch 6/100\n",
            "100/100 [==============================] - 24s 245ms/step - loss: 0.5147 - accuracy: 0.7600 - val_loss: 0.4977 - val_accuracy: 0.7650\n",
            "Epoch 7/100\n",
            "100/100 [==============================] - 24s 245ms/step - loss: 0.5015 - accuracy: 0.7640 - val_loss: 0.4478 - val_accuracy: 0.8230\n",
            "Epoch 8/100\n",
            "100/100 [==============================] - 25s 248ms/step - loss: 0.5061 - accuracy: 0.7590 - val_loss: 0.6768 - val_accuracy: 0.6970\n",
            "Epoch 9/100\n",
            "100/100 [==============================] - 25s 247ms/step - loss: 0.4914 - accuracy: 0.7695 - val_loss: 0.5008 - val_accuracy: 0.7630\n",
            "Epoch 10/100\n",
            "100/100 [==============================] - 24s 242ms/step - loss: 0.5185 - accuracy: 0.7580 - val_loss: 0.4866 - val_accuracy: 0.7890\n",
            "Epoch 11/100\n",
            "100/100 [==============================] - 25s 249ms/step - loss: 0.5036 - accuracy: 0.7638 - val_loss: 0.5007 - val_accuracy: 0.7940\n",
            "Epoch 12/100\n",
            "100/100 [==============================] - 25s 250ms/step - loss: 0.4978 - accuracy: 0.7530 - val_loss: 0.4848 - val_accuracy: 0.7650\n",
            "Epoch 13/100\n",
            "100/100 [==============================] - 25s 251ms/step - loss: 0.5158 - accuracy: 0.7605 - val_loss: 0.4599 - val_accuracy: 0.8050\n",
            "Epoch 14/100\n",
            "100/100 [==============================] - 24s 244ms/step - loss: 0.5049 - accuracy: 0.7713 - val_loss: 0.5061 - val_accuracy: 0.7400\n",
            "Epoch 15/100\n",
            "100/100 [==============================] - 24s 243ms/step - loss: 0.5103 - accuracy: 0.7650 - val_loss: 0.4934 - val_accuracy: 0.7540\n",
            "Epoch 16/100\n",
            "100/100 [==============================] - 24s 244ms/step - loss: 0.5139 - accuracy: 0.7625 - val_loss: 0.4245 - val_accuracy: 0.8130\n",
            "Epoch 17/100\n",
            "100/100 [==============================] - 24s 244ms/step - loss: 0.5246 - accuracy: 0.7492 - val_loss: 0.4844 - val_accuracy: 0.7640\n",
            "Epoch 18/100\n",
            "100/100 [==============================] - 25s 247ms/step - loss: 0.4899 - accuracy: 0.7750 - val_loss: 0.4861 - val_accuracy: 0.7700\n",
            "Epoch 19/100\n",
            "100/100 [==============================] - 25s 248ms/step - loss: 0.4801 - accuracy: 0.7810 - val_loss: 0.7659 - val_accuracy: 0.6350\n",
            "Epoch 20/100\n",
            "100/100 [==============================] - 25s 245ms/step - loss: 0.5205 - accuracy: 0.7605 - val_loss: 0.4631 - val_accuracy: 0.7700\n",
            "Epoch 21/100\n",
            "100/100 [==============================] - 24s 245ms/step - loss: 0.4845 - accuracy: 0.7715 - val_loss: 0.4920 - val_accuracy: 0.7740\n",
            "Epoch 22/100\n",
            "100/100 [==============================] - 24s 244ms/step - loss: 0.4984 - accuracy: 0.7715 - val_loss: 0.4994 - val_accuracy: 0.7490\n",
            "Epoch 23/100\n",
            "100/100 [==============================] - 24s 242ms/step - loss: 0.5149 - accuracy: 0.7497 - val_loss: 0.4250 - val_accuracy: 0.8000\n",
            "Epoch 24/100\n",
            "100/100 [==============================] - 24s 242ms/step - loss: 0.4857 - accuracy: 0.7740 - val_loss: 0.4601 - val_accuracy: 0.7880\n",
            "Epoch 25/100\n",
            "100/100 [==============================] - 24s 242ms/step - loss: 0.4837 - accuracy: 0.7690 - val_loss: 0.4979 - val_accuracy: 0.7600\n",
            "Epoch 26/100\n",
            "100/100 [==============================] - 24s 245ms/step - loss: 0.4845 - accuracy: 0.7753 - val_loss: 0.4744 - val_accuracy: 0.7810\n",
            "Epoch 27/100\n",
            "100/100 [==============================] - 24s 244ms/step - loss: 0.5091 - accuracy: 0.7570 - val_loss: 0.4414 - val_accuracy: 0.8010\n",
            "Epoch 28/100\n",
            "100/100 [==============================] - 25s 245ms/step - loss: 0.5063 - accuracy: 0.7643 - val_loss: 0.4999 - val_accuracy: 0.7540\n",
            "Epoch 29/100\n",
            "100/100 [==============================] - 24s 241ms/step - loss: 0.5079 - accuracy: 0.7725 - val_loss: 0.4608 - val_accuracy: 0.7900\n",
            "Epoch 30/100\n",
            "100/100 [==============================] - 24s 239ms/step - loss: 0.4872 - accuracy: 0.7660 - val_loss: 0.5656 - val_accuracy: 0.7600\n",
            "Epoch 31/100\n",
            "100/100 [==============================] - 24s 241ms/step - loss: 0.4855 - accuracy: 0.7705 - val_loss: 0.5077 - val_accuracy: 0.7610\n",
            "Epoch 32/100\n",
            "100/100 [==============================] - 24s 240ms/step - loss: 0.5048 - accuracy: 0.7635 - val_loss: 0.4955 - val_accuracy: 0.7750\n",
            "Epoch 33/100\n",
            "100/100 [==============================] - 24s 241ms/step - loss: 0.5236 - accuracy: 0.7735 - val_loss: 0.4757 - val_accuracy: 0.7600\n",
            "Epoch 34/100\n",
            "100/100 [==============================] - 24s 242ms/step - loss: 0.5090 - accuracy: 0.7710 - val_loss: 0.4591 - val_accuracy: 0.7980\n",
            "Epoch 35/100\n",
            "100/100 [==============================] - 24s 242ms/step - loss: 0.5072 - accuracy: 0.7560 - val_loss: 0.5310 - val_accuracy: 0.7620\n",
            "Epoch 36/100\n",
            "100/100 [==============================] - 24s 241ms/step - loss: 0.5165 - accuracy: 0.7630 - val_loss: 0.4580 - val_accuracy: 0.7890\n",
            "Epoch 37/100\n",
            "100/100 [==============================] - 24s 239ms/step - loss: 0.4904 - accuracy: 0.7640 - val_loss: 0.5537 - val_accuracy: 0.7270\n",
            "Epoch 38/100\n",
            "100/100 [==============================] - 24s 240ms/step - loss: 0.4981 - accuracy: 0.7410 - val_loss: 0.4785 - val_accuracy: 0.7760\n",
            "Epoch 39/100\n",
            "100/100 [==============================] - 24s 237ms/step - loss: 0.4957 - accuracy: 0.7650 - val_loss: 0.4841 - val_accuracy: 0.7990\n",
            "Epoch 40/100\n",
            "100/100 [==============================] - 24s 238ms/step - loss: 0.5085 - accuracy: 0.7480 - val_loss: 0.4663 - val_accuracy: 0.7950\n",
            "Epoch 41/100\n",
            "100/100 [==============================] - 24s 242ms/step - loss: 0.5174 - accuracy: 0.7670 - val_loss: 0.5022 - val_accuracy: 0.7620\n",
            "Epoch 42/100\n",
            "100/100 [==============================] - 24s 240ms/step - loss: 0.4897 - accuracy: 0.7710 - val_loss: 0.4705 - val_accuracy: 0.7950\n",
            "Epoch 43/100\n",
            "100/100 [==============================] - 24s 241ms/step - loss: 0.4911 - accuracy: 0.7760 - val_loss: 0.4611 - val_accuracy: 0.7930\n",
            "Epoch 44/100\n",
            "100/100 [==============================] - 24s 240ms/step - loss: 0.4857 - accuracy: 0.7750 - val_loss: 0.4852 - val_accuracy: 0.7730\n",
            "Epoch 45/100\n",
            "100/100 [==============================] - 24s 241ms/step - loss: 0.4883 - accuracy: 0.7810 - val_loss: 0.4581 - val_accuracy: 0.7900\n",
            "Epoch 46/100\n",
            "100/100 [==============================] - 24s 242ms/step - loss: 0.5177 - accuracy: 0.7385 - val_loss: 0.4698 - val_accuracy: 0.7780\n",
            "Epoch 47/100\n",
            "100/100 [==============================] - 24s 241ms/step - loss: 0.4944 - accuracy: 0.7805 - val_loss: 0.5430 - val_accuracy: 0.7640\n",
            "Epoch 48/100\n",
            "100/100 [==============================] - 24s 239ms/step - loss: 0.4964 - accuracy: 0.7600 - val_loss: 0.4482 - val_accuracy: 0.7820\n",
            "Epoch 49/100\n",
            "100/100 [==============================] - 24s 239ms/step - loss: 0.4667 - accuracy: 0.7845 - val_loss: 0.4449 - val_accuracy: 0.8070\n",
            "Epoch 50/100\n",
            "100/100 [==============================] - 24s 239ms/step - loss: 0.5137 - accuracy: 0.7583 - val_loss: 0.4715 - val_accuracy: 0.7870\n",
            "Epoch 51/100\n",
            "100/100 [==============================] - 24s 240ms/step - loss: 0.4775 - accuracy: 0.7790 - val_loss: 0.4865 - val_accuracy: 0.7750\n",
            "Epoch 52/100\n",
            "100/100 [==============================] - 24s 239ms/step - loss: 0.4937 - accuracy: 0.7688 - val_loss: 0.4386 - val_accuracy: 0.7980\n",
            "Epoch 53/100\n",
            "100/100 [==============================] - 25s 245ms/step - loss: 0.4888 - accuracy: 0.7750 - val_loss: 0.5903 - val_accuracy: 0.7580\n",
            "Epoch 54/100\n",
            "100/100 [==============================] - 25s 247ms/step - loss: 0.4811 - accuracy: 0.7770 - val_loss: 0.6723 - val_accuracy: 0.6910\n",
            "Epoch 55/100\n",
            "100/100 [==============================] - 24s 242ms/step - loss: 0.4755 - accuracy: 0.7890 - val_loss: 0.4577 - val_accuracy: 0.7990\n",
            "Epoch 56/100\n",
            "100/100 [==============================] - 24s 243ms/step - loss: 0.4781 - accuracy: 0.7860 - val_loss: 0.4433 - val_accuracy: 0.7960\n",
            "Epoch 57/100\n",
            "100/100 [==============================] - 24s 244ms/step - loss: 0.4858 - accuracy: 0.7740 - val_loss: 0.4634 - val_accuracy: 0.7920\n",
            "Epoch 58/100\n",
            "100/100 [==============================] - 24s 244ms/step - loss: 0.4668 - accuracy: 0.7900 - val_loss: 0.4585 - val_accuracy: 0.7840\n",
            "Epoch 59/100\n",
            "100/100 [==============================] - 24s 241ms/step - loss: 0.4736 - accuracy: 0.7750 - val_loss: 0.5343 - val_accuracy: 0.7390\n",
            "Epoch 60/100\n",
            "100/100 [==============================] - 24s 240ms/step - loss: 0.4868 - accuracy: 0.7770 - val_loss: 0.4386 - val_accuracy: 0.8180\n",
            "Epoch 61/100\n",
            "100/100 [==============================] - 24s 238ms/step - loss: 0.4755 - accuracy: 0.7920 - val_loss: 0.5062 - val_accuracy: 0.7730\n",
            "Epoch 62/100\n",
            "100/100 [==============================] - 24s 238ms/step - loss: 0.4780 - accuracy: 0.7815 - val_loss: 0.5788 - val_accuracy: 0.6980\n",
            "Epoch 63/100\n",
            "100/100 [==============================] - 24s 237ms/step - loss: 0.5089 - accuracy: 0.7745 - val_loss: 0.6187 - val_accuracy: 0.6720\n",
            "Epoch 64/100\n",
            "100/100 [==============================] - 23s 235ms/step - loss: 0.4879 - accuracy: 0.7823 - val_loss: 0.4618 - val_accuracy: 0.7760\n",
            "Epoch 65/100\n",
            "100/100 [==============================] - 24s 241ms/step - loss: 0.4876 - accuracy: 0.7903 - val_loss: 0.4709 - val_accuracy: 0.7920\n",
            "Epoch 66/100\n",
            "100/100 [==============================] - 25s 247ms/step - loss: 0.4940 - accuracy: 0.7735 - val_loss: 0.4167 - val_accuracy: 0.8010\n",
            "Epoch 67/100\n",
            "100/100 [==============================] - 25s 245ms/step - loss: 0.4731 - accuracy: 0.7990 - val_loss: 0.4870 - val_accuracy: 0.7790\n",
            "Epoch 68/100\n",
            "100/100 [==============================] - 24s 241ms/step - loss: 0.4877 - accuracy: 0.7805 - val_loss: 0.4120 - val_accuracy: 0.8030\n",
            "Epoch 69/100\n",
            "100/100 [==============================] - 24s 239ms/step - loss: 0.4763 - accuracy: 0.7900 - val_loss: 0.4252 - val_accuracy: 0.7820\n",
            "Epoch 70/100\n",
            "100/100 [==============================] - 23s 233ms/step - loss: 0.4582 - accuracy: 0.7945 - val_loss: 0.4291 - val_accuracy: 0.8030\n",
            "Epoch 71/100\n",
            "100/100 [==============================] - 24s 240ms/step - loss: 0.5220 - accuracy: 0.7720 - val_loss: 0.4665 - val_accuracy: 0.7870\n",
            "Epoch 72/100\n",
            "100/100 [==============================] - 24s 241ms/step - loss: 0.4674 - accuracy: 0.7920 - val_loss: 0.4284 - val_accuracy: 0.8080\n",
            "Epoch 73/100\n",
            "100/100 [==============================] - 24s 239ms/step - loss: 0.4745 - accuracy: 0.7785 - val_loss: 0.4951 - val_accuracy: 0.7620\n",
            "Epoch 74/100\n",
            "100/100 [==============================] - 24s 236ms/step - loss: 0.4774 - accuracy: 0.7790 - val_loss: 0.5204 - val_accuracy: 0.7510\n",
            "Epoch 75/100\n",
            "100/100 [==============================] - 24s 241ms/step - loss: 0.5108 - accuracy: 0.7695 - val_loss: 0.4655 - val_accuracy: 0.7710\n",
            "Epoch 76/100\n",
            "100/100 [==============================] - 24s 235ms/step - loss: 0.4819 - accuracy: 0.7765 - val_loss: 0.5000 - val_accuracy: 0.7640\n",
            "Epoch 77/100\n",
            "100/100 [==============================] - 23s 235ms/step - loss: 0.4794 - accuracy: 0.7820 - val_loss: 0.4548 - val_accuracy: 0.8030\n",
            "Epoch 78/100\n",
            "100/100 [==============================] - 23s 235ms/step - loss: 0.4713 - accuracy: 0.7790 - val_loss: 1.2525 - val_accuracy: 0.6440\n",
            "Epoch 79/100\n",
            "100/100 [==============================] - 24s 237ms/step - loss: 0.4561 - accuracy: 0.7920 - val_loss: 0.4768 - val_accuracy: 0.7900\n",
            "Epoch 80/100\n",
            " 86/100 [========================>.....] - ETA: 2s - loss: 0.4962 - accuracy: 0.7698"
          ],
          "name": "stdout"
        }
      ]
    },
    {
      "cell_type": "code",
      "metadata": {
        "id": "113zezE30dA8",
        "colab_type": "code",
        "colab": {
          "base_uri": "https://localhost:8080/",
          "height": 562
        },
        "outputId": "c77944f7-7016-428f-c569-25ad43ded214"
      },
      "source": [
        "# Definições das plotagens:\n",
        "\n",
        "import matplotlib.pyplot as plt\n",
        "\n",
        "# Dados do treino\n",
        "acc = history.history['accuracy']\n",
        "loss = history.history['loss']\n",
        "# Dados da validação\n",
        "val_acc = history.history['val_accuracy']\n",
        "val_loss = history.history['val_loss']\n",
        "# Épocas\n",
        "epochs = range(len(acc))\n",
        "\n",
        "# Plots\n",
        "plt.plot(epochs, acc, 'r', label='Training Accuracy')\n",
        "plt.plot(epochs, val_acc, 'b', label = 'Validation Accuracy')\n",
        "plt.title('Accuracy x Epochs')\n",
        "plt.legend()\n",
        "\n",
        "plt.figure()\n",
        "plt.plot(epochs, loss, 'r', label='Training Loss')\n",
        "plt.plot(epochs, val_loss, 'b', label='Validation Loss')\n",
        "plt.title('Loss x Epochs')\n",
        "plt.legend()"
      ],
      "execution_count": 62,
      "outputs": [
        {
          "output_type": "execute_result",
          "data": {
            "text/plain": [
              "<matplotlib.legend.Legend at 0x7f449be9e710>"
            ]
          },
          "metadata": {
            "tags": []
          },
          "execution_count": 62
        },
        {
          "output_type": "display_data",
          "data": {
            "image/png": "[encoded data removed]",
            "text/plain": [
              "<Figure size 432x288 with 1 Axes>"
            ]
          },
          "metadata": {
            "tags": [],
            "needs_background": "light"
          }
        },
        {
          "output_type": "display_data",
          "data": {
            "image/png": "[encoded data removed]",
            "text/plain": [
              "<Figure size 432x288 with 1 Axes>"
            ]
          },
          "metadata": {
            "tags": [],
            "needs_background": "light"
          }
        }
      ]
    },
    {
      "cell_type": "code",
      "metadata": {
        "id": "eEnsibYq-jLR",
        "colab_type": "code",
        "colab": {}
      },
      "source": [
        ""
      ],
      "execution_count": null,
      "outputs": []
    }
  ]
}